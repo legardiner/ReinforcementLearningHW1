{
 "cells": [
  {
   "cell_type": "code",
   "execution_count": 1,
   "metadata": {},
   "outputs": [],
   "source": [
    "import numpy as np\n",
    "import matplotlib.pyplot as plt\n",
    "import random\n",
    "import time"
   ]
  },
  {
   "cell_type": "markdown",
   "metadata": {},
   "source": [
    "# Problem 1"
   ]
  },
  {
   "cell_type": "code",
   "execution_count": 2,
   "metadata": {},
   "outputs": [],
   "source": [
    "def getExpectedValue(environments, state, action, shuttle_capacity, V_prime, reward, discount):\n",
    "    value = 0\n",
    "    for env in environments:\n",
    "        # subtract the capacity of the shuttle if action indicator is 1\n",
    "        s_prime = min(max(state + env - action * shuttle_capacity, 0), 200)\n",
    "        # calculate the expectation given the uniform distribution of five possibilities\n",
    "        value += 1/len(environments) * V_prime[s_prime]\n",
    "    # expected total value given the state and the action\n",
    "    return reward + discount * value"
   ]
  },
  {
   "cell_type": "code",
   "execution_count": 3,
   "metadata": {},
   "outputs": [],
   "source": [
    "def getReward(c_f, c_h, a, s, K):\n",
    "    return a * c_f + max(s - a * K, 0) * c_h"
   ]
  },
  {
   "cell_type": "markdown",
   "metadata": {},
   "source": [
    "## A)"
   ]
  },
  {
   "cell_type": "code",
   "execution_count": 4,
   "metadata": {},
   "outputs": [],
   "source": [
    "def enumeration(T, S, A, E, K, c_f, c_h, d, V_t1, V_t):\n",
    "    for t in range(T, -1, -1):\n",
    "        for s in S:\n",
    "            expectedValues = []\n",
    "            for a in A:\n",
    "                # calculate the reward based on the action and state\n",
    "                reward = getReward(c_f, c_h, a, s, K)\n",
    "                expectedValues.append(getExpectedValue(E, s, a, K, V_t1, reward, d))\n",
    "            V_t[s] = max(expectedValues)\n",
    "        V_t1 = V_t.copy()\n",
    "    plt.plot(V_t1)\n",
    "    return plt.show()"
   ]
  },
  {
   "cell_type": "code",
   "execution_count": 5,
   "metadata": {},
   "outputs": [
    {
     "data": {
      "image/png": "[encoded data removed]",
      "text/plain": [
       "<Figure size 432x288 with 1 Axes>"
      ]
     },
     "metadata": {},
     "output_type": "display_data"
    },
    {
     "data": {
      "text/plain": [
       "0.8848249912261963"
      ]
     },
     "execution_count": 5,
     "metadata": {},
     "output_type": "execute_result"
    }
   ],
   "source": [
    "T = 500\n",
    "S = list(range(0, 201))\n",
    "A = [0, 1]\n",
    "E = list(range(1, 6))\n",
    "K = 15\n",
    "c_f = -100\n",
    "c_h = -2\n",
    "d = 0.95\n",
    "V_t1 = [0] * 201\n",
    "V_t = [0] * 201\n",
    "start = time.time()\n",
    "enumeration(T, S, A, E, K, c_f, c_h, d, V_t1, V_t)\n",
    "end = time.time()\n",
    "end - start"
   ]
  },
  {
   "cell_type": "markdown",
   "metadata": {},
   "source": [
    "## B)"
   ]
  },
  {
   "cell_type": "code",
   "execution_count": 6,
   "metadata": {},
   "outputs": [],
   "source": [
    "def valueIteration(theta, delta, S, A, E, K, c_f, c_h, d, V_k1, V_k):\n",
    "    while delta > theta:\n",
    "        for s in S:\n",
    "            expectedValues = []\n",
    "            for a in A:\n",
    "                reward = getReward(c_f, c_h, a, s, K)\n",
    "                expectedValues.append(getExpectedValue(E, s, a, K, V_k, reward, d))\n",
    "            V_k1[s] = max(expectedValues)\n",
    "        delta = max(np.abs(np.array(V_k1) - np.array(V_k)))\n",
    "        # update V_k to be the expected total values for V_k1 as we iterate forward through k\n",
    "        V_k = V_k1.copy()\n",
    "    plt.plot(V_k)\n",
    "    return plt.show()"
   ]
  },
  {
   "cell_type": "code",
   "execution_count": 7,
   "metadata": {},
   "outputs": [
    {
     "data": {
      "image/png": "[encoded data removed]",
      "text/plain": [
       "<Figure size 432x288 with 1 Axes>"
      ]
     },
     "metadata": {},
     "output_type": "display_data"
    },
    {
     "data": {
      "text/plain": [
       "0.5643131732940674"
      ]
     },
     "execution_count": 7,
     "metadata": {},
     "output_type": "execute_result"
    }
   ],
   "source": [
    "theta = 10e-6\n",
    "delta = 2\n",
    "V_k1 = [0] * 201\n",
    "V_k = [0] * 201\n",
    "start = time.time()\n",
    "valueIteration(theta, delta, S, A, E, K, c_f, c_h, d, V_k1, V_k)\n",
    "end = time.time()\n",
    "end - start"
   ]
  },
  {
   "cell_type": "markdown",
   "metadata": {},
   "source": [
    "## C)"
   ]
  },
  {
   "cell_type": "code",
   "execution_count": 11,
   "metadata": {},
   "outputs": [],
   "source": [
    "def policyIteration(theta, delta, S, A, E, K, c_f, c_h, d, V_k1, V_k, oldPolicy, newPolicy):\n",
    "    changing = True\n",
    "    while changing:\n",
    "        # Policy evaluation\n",
    "        while delta > theta:\n",
    "            for s in S:\n",
    "                # Get the action based on the policy\n",
    "                a = oldPolicy[s]\n",
    "                reward = getReward(c_f, c_h, a, s, K)\n",
    "                V_k1[s] = getExpectedValue(E, s, a, K, V_k, reward, d)\n",
    "            delta = max(np.abs(np.array(V_k1) - np.array(V_k)))\n",
    "            V_k = V_k1.copy()\n",
    "        # Policy improvement\n",
    "        for s in S:\n",
    "            expectedValues = []\n",
    "            for a in A:\n",
    "                reward = getReward(c_f, c_h, a, s, K)\n",
    "                expectedValues.append(getExpectedValue(E, s, a, K, V_k, reward, d))\n",
    "            bestAction = np.argmax(expectedValues)\n",
    "            newPolicy[s] = bestAction\n",
    "        if newPolicy != oldPolicy:\n",
    "            oldPolicy = newPolicy.copy()\n",
    "            delta = 2\n",
    "            V_k1 = [0] * 201\n",
    "            V_k = [0] * 201\n",
    "        else:\n",
    "            changing = False\n",
    "    plt.plot(newPolicy)\n",
    "    plt.show()\n",
    "    return newPolicy"
   ]
  },
  {
   "cell_type": "code",
   "execution_count": 12,
   "metadata": {},
   "outputs": [
    {
     "data": {
      "image/png": "[encoded data removed]",
      "text/plain": [
       "<Figure size 432x288 with 1 Axes>"
      ]
     },
     "metadata": {},
     "output_type": "display_data"
    },
    {
     "data": {
      "text/plain": [
       "4.21132755279541"
      ]
     },
     "execution_count": 12,
     "metadata": {},
     "output_type": "execute_result"
    }
   ],
   "source": [
    "V_k1 = [0] * 201\n",
    "V_k = [0] * 201\n",
    "oldPolicy = [random.randint(0,1)] * 201\n",
    "newPolicy = [random.randint(0,1)] * 201\n",
    "start = time.time()\n",
    "policy = policyIteration(theta, delta, S, A, E, K, c_f, c_h, d, V_k1, V_k, oldPolicy, newPolicy)\n",
    "end = time.time()\n",
    "end - start"
   ]
  },
  {
   "cell_type": "code",
   "execution_count": 13,
   "metadata": {},
   "outputs": [
    {
     "data": {
      "text/plain": [
       "[0,\n",
       " 0,\n",
       " 0,\n",
       " 0,\n",
       " 0,\n",
       " 0,\n",
       " 0,\n",
       " 0,\n",
       " 0,\n",
       " 0,\n",
       " 1,\n",
       " 1,\n",
       " 1,\n",
       " 1,\n",
       " 1,\n",
       " 1,\n",
       " 1,\n",
       " 1,\n",
       " 1,\n",
       " 1,\n",
       " 1,\n",
       " 1,\n",
       " 1,\n",
       " 1,\n",
       " 1,\n",
       " 1,\n",
       " 1,\n",
       " 1,\n",
       " 1,\n",
       " 1,\n",
       " 1,\n",
       " 1,\n",
       " 1,\n",
       " 1,\n",
       " 1,\n",
       " 1,\n",
       " 1,\n",
       " 1,\n",
       " 1,\n",
       " 1,\n",
       " 1,\n",
       " 1,\n",
       " 1,\n",
       " 1,\n",
       " 1,\n",
       " 1,\n",
       " 1,\n",
       " 1,\n",
       " 1,\n",
       " 1,\n",
       " 1,\n",
       " 1,\n",
       " 1,\n",
       " 1,\n",
       " 1,\n",
       " 1,\n",
       " 1,\n",
       " 1,\n",
       " 1,\n",
       " 1,\n",
       " 1,\n",
       " 1,\n",
       " 1,\n",
       " 1,\n",
       " 1,\n",
       " 1,\n",
       " 1,\n",
       " 1,\n",
       " 1,\n",
       " 1,\n",
       " 1,\n",
       " 1,\n",
       " 1,\n",
       " 1,\n",
       " 1,\n",
       " 1,\n",
       " 1,\n",
       " 1,\n",
       " 1,\n",
       " 1,\n",
       " 1,\n",
       " 1,\n",
       " 1,\n",
       " 1,\n",
       " 1,\n",
       " 1,\n",
       " 1,\n",
       " 1,\n",
       " 1,\n",
       " 1,\n",
       " 1,\n",
       " 1,\n",
       " 1,\n",
       " 1,\n",
       " 1,\n",
       " 1,\n",
       " 1,\n",
       " 1,\n",
       " 1,\n",
       " 1,\n",
       " 1,\n",
       " 1,\n",
       " 1,\n",
       " 1,\n",
       " 1,\n",
       " 1,\n",
       " 1,\n",
       " 1,\n",
       " 1,\n",
       " 1,\n",
       " 1,\n",
       " 1,\n",
       " 1,\n",
       " 1,\n",
       " 1,\n",
       " 1,\n",
       " 1,\n",
       " 1,\n",
       " 1,\n",
       " 1,\n",
       " 1,\n",
       " 1,\n",
       " 1,\n",
       " 1,\n",
       " 1,\n",
       " 1,\n",
       " 1,\n",
       " 1,\n",
       " 1,\n",
       " 1,\n",
       " 1,\n",
       " 1,\n",
       " 1,\n",
       " 1,\n",
       " 1,\n",
       " 1,\n",
       " 1,\n",
       " 1,\n",
       " 1,\n",
       " 1,\n",
       " 1,\n",
       " 1,\n",
       " 1,\n",
       " 1,\n",
       " 1,\n",
       " 1,\n",
       " 1,\n",
       " 1,\n",
       " 1,\n",
       " 1,\n",
       " 1,\n",
       " 1,\n",
       " 1,\n",
       " 1,\n",
       " 1,\n",
       " 1,\n",
       " 1,\n",
       " 1,\n",
       " 1,\n",
       " 1,\n",
       " 1,\n",
       " 1,\n",
       " 1,\n",
       " 1,\n",
       " 1,\n",
       " 1,\n",
       " 1,\n",
       " 1,\n",
       " 1,\n",
       " 1,\n",
       " 1,\n",
       " 1,\n",
       " 1,\n",
       " 1,\n",
       " 1,\n",
       " 1,\n",
       " 1,\n",
       " 1,\n",
       " 1,\n",
       " 1,\n",
       " 1,\n",
       " 1,\n",
       " 1,\n",
       " 1,\n",
       " 1,\n",
       " 1,\n",
       " 1,\n",
       " 1,\n",
       " 1,\n",
       " 1,\n",
       " 1,\n",
       " 1,\n",
       " 1,\n",
       " 1,\n",
       " 1,\n",
       " 1,\n",
       " 1,\n",
       " 1,\n",
       " 1,\n",
       " 1,\n",
       " 1]"
      ]
     },
     "execution_count": 13,
     "metadata": {},
     "output_type": "execute_result"
    }
   ],
   "source": [
    "policy"
   ]
  },
  {
   "cell_type": "code",
   "execution_count": null,
   "metadata": {},
   "outputs": [],
   "source": []
  }
 ],
 "metadata": {
  "kernelspec": {
   "display_name": "Python 3",
   "language": "python",
   "name": "python3"
  },
  "language_info": {
   "codemirror_mode": {
    "name": "ipython",
    "version": 3
   },
   "file_extension": ".py",
   "mimetype": "text/x-python",
   "name": "python",
   "nbconvert_exporter": "python",
   "pygments_lexer": "ipython3",
   "version": "3.6.5"
  }
 },
 "nbformat": 4,
 "nbformat_minor": 2
}
