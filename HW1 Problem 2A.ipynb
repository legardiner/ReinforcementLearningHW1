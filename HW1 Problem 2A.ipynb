{
 "cells": [
  {
   "cell_type": "code",
   "execution_count": 1,
   "metadata": {},
   "outputs": [],
   "source": [
    "import numpy as np\n",
    "import matplotlib.pyplot as plt\n",
    "import random\n",
    "import time"
   ]
  },
  {
   "cell_type": "code",
   "execution_count": 2,
   "metadata": {},
   "outputs": [],
   "source": [
    "def createStates(stationCapacity, maxArrivals):\n",
    "    S = []\n",
    "    V_t1 = {}\n",
    "    V_t = {}\n",
    "    newPolicy = {}\n",
    "    oldPolicy = {}\n",
    "    for state1 in range(0, stationCapacity + 1):\n",
    "        for state2 in range(0, stationCapacity + 1):\n",
    "            for state3 in range(0, stationCapacity + 1):\n",
    "                for state4 in range(0, stationCapacity + 1):\n",
    "                    for state5 in range(0, stationCapacity + 1):\n",
    "                        S.append([state1, state2, state3, state4, state5])\n",
    "                        V_t1[(state1, state2, state3, state4, state5)] = 0\n",
    "                        V_t[(state1, state2, state3, state4, state5)] = 0\n",
    "                        newPolicy[(state1, state2, state3, state4, state5)] = random.randint(0,1)\n",
    "                        oldPolicy[(state1, state2, state3, state4, state5)] = random.randint(0,1)\n",
    "                        \n",
    "    \n",
    "    E = []\n",
    "    for env1 in range(1, maxArrivals + 1):\n",
    "        for env2 in range(1, maxArrivals + 1):\n",
    "            for env3 in range(1, maxArrivals + 1):\n",
    "                for env4 in range(1, maxArrivals + 1):\n",
    "                    for env5 in range(1, maxArrivals + 1):\n",
    "                        E.append([env1, env2, env3, env4, env5])\n",
    "    return S, V_t1, V_t, newPolicy, oldPolicy, E"
   ]
  },
  {
   "cell_type": "code",
   "execution_count": 3,
   "metadata": {},
   "outputs": [],
   "source": [
    "def getReward(c_f, c_h, a, s, K, stationCapacity):\n",
    "    return a * c_f + sum(getNextState(a, s, K, stationCapacity) * c_h)"
   ]
  },
  {
   "cell_type": "code",
   "execution_count": 4,
   "metadata": {},
   "outputs": [],
   "source": [
    "def getNextState(a, s, K, stationCapacity, env=np.array([0,0,0,0,0])):\n",
    "    s=np.clip(np.add(s, env), 0, stationCapacity)\n",
    "    s_prime = s.copy()\n",
    "    if a == 1:\n",
    "        for i in range(len(s_prime)-1, -1, -1):\n",
    "            s_prime[i] = max(s_prime[i] - K, 0)\n",
    "            K -= np.abs(s[i] - s_prime[i])\n",
    "    return s_prime"
   ]
  },
  {
   "cell_type": "code",
   "execution_count": 5,
   "metadata": {},
   "outputs": [],
   "source": [
    "def getExpectedValue(environments, state, S, action, shuttleCapacity, stationCapacity, V_prime, reward, discount):\n",
    "    value = 0\n",
    "    for env in environments:\n",
    "        s_prime = getNextState(action, state, shuttleCapacity, stationCapacity, env)\n",
    "        # calculate the expectation given the uniform distribution of five possibilities\n",
    "        value += 1/len(E) * V_prime[tuple(s_prime)]\n",
    "    # expected total value given the state and the action\n",
    "    return reward + discount * value"
   ]
  },
  {
   "cell_type": "code",
   "execution_count": 6,
   "metadata": {},
   "outputs": [],
   "source": [
    "def enumeration(T, S, A, E, K, stationCapacity, c_f, c_h, d, V_t1, V_t):\n",
    "    for t in range(T, -1, -1):\n",
    "        for s in S:\n",
    "            expectedValues = []\n",
    "            for a in A:\n",
    "                # calculate the reward based on the action and state\n",
    "                reward = getReward(c_f, c_h, a, s, K, stationCapacity)\n",
    "                expectedValues.append(getExpectedValue(E, s, S, a, K, stationCapacity, V_t1, reward, d))\n",
    "            V_t[tuple(s)] = max(expectedValues)\n",
    "        V_t1 = V_t.copy()\n",
    "    plot_values = []\n",
    "    for i in range(stationCapacity + 1):\n",
    "        plot_values.append(V_t1[(0,0,0,0,i)])\n",
    "    plt.plot(plot_values)\n",
    "    return plt.show()"
   ]
  },
  {
   "cell_type": "code",
   "execution_count": 7,
   "metadata": {},
   "outputs": [],
   "source": [
    "stationCapacity = 2\n",
    "maxArrivals = 5\n",
    "S, V_t1, V_t, newPolicy, oldPolicy, E = createStates(stationCapacity, maxArrivals)"
   ]
  },
  {
   "cell_type": "code",
   "execution_count": 8,
   "metadata": {},
   "outputs": [
    {
     "data": {
      "image/png": "[encoded data removed]",
      "text/plain": [
       "<Figure size 432x288 with 1 Axes>"
      ]
     },
     "metadata": {},
     "output_type": "display_data"
    },
    {
     "data": {
      "text/plain": [
       "12181.317658662796"
      ]
     },
     "execution_count": 8,
     "metadata": {},
     "output_type": "execute_result"
    }
   ],
   "source": [
    "start = time.time()\n",
    "T = 500\n",
    "A = [0, 1]\n",
    "K = 30\n",
    "c_f = -100\n",
    "c_h = np.array([-1, -1.5, -2, -2.5, -3])\n",
    "d = 0.95\n",
    "V_t1 = enumeration(T, S, A, E, K, stationCapacity, c_f, c_h, d, V_t1, V_t)\n",
    "end = time.time()\n",
    "end - start"
   ]
  },
  {
   "cell_type": "code",
   "execution_count": null,
   "metadata": {},
   "outputs": [],
   "source": []
  }
 ],
 "metadata": {
  "kernelspec": {
   "display_name": "Python 3",
   "language": "python",
   "name": "python3"
  },
  "language_info": {
   "codemirror_mode": {
    "name": "ipython",
    "version": 3
   },
   "file_extension": ".py",
   "mimetype": "text/x-python",
   "name": "python",
   "nbconvert_exporter": "python",
   "pygments_lexer": "ipython3",
   "version": "3.6.5"
  }
 },
 "nbformat": 4,
 "nbformat_minor": 2
}
