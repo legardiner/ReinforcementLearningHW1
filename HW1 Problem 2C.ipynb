{
 "cells": [
  {
   "cell_type": "code",
   "execution_count": 1,
   "metadata": {},
   "outputs": [],
   "source": [
    "import numpy as np\n",
    "import matplotlib.pyplot as plt\n",
    "import random\n",
    "import time\n",
    "\n",
    "def createStates(stationCapacity, maxArrivals):\n",
    "    S = []\n",
    "    V_t1 = {}\n",
    "    V_t = {}\n",
    "    newPolicy = {}\n",
    "    oldPolicy = {}\n",
    "    for state1 in range(0, stationCapacity + 1):\n",
    "        for state2 in range(0, stationCapacity + 1):\n",
    "            for state3 in range(0, stationCapacity + 1):\n",
    "                for state4 in range(0, stationCapacity + 1):\n",
    "                    for state5 in range(0, stationCapacity + 1):\n",
    "                        S.append([state1, state2, state3, state4, state5])\n",
    "                        V_t1[(state1, state2, state3, state4, state5)] = 0\n",
    "                        V_t[(state1, state2, state3, state4, state5)] = 0\n",
    "                        newPolicy[(state1, state2, state3, state4, state5)] = random.randint(0,1)\n",
    "                        oldPolicy[(state1, state2, state3, state4, state5)] = random.randint(0,1)\n",
    "                        \n",
    "    \n",
    "    E = []\n",
    "    for env1 in range(1, maxArrivals + 1):\n",
    "        for env2 in range(1, maxArrivals + 1):\n",
    "            for env3 in range(1, maxArrivals + 1):\n",
    "                for env4 in range(1, maxArrivals + 1):\n",
    "                    for env5 in range(1, maxArrivals + 1):\n",
    "                        E.append([env1, env2, env3, env4, env5])\n",
    "    return S, V_t1, V_t, newPolicy, oldPolicy, E\n",
    "\n",
    "def getReward(c_f, c_h, a, s, K, stationCapacity):\n",
    "    return a * c_f + sum(getNextState(a, s, K, stationCapacity) * c_h)\n",
    "\n",
    "def getNextState(a, s, K, stationCapacity, env=np.array([0,0,0,0,0])):\n",
    "    s=np.clip(np.add(s, env), 0, stationCapacity)\n",
    "    s_prime = s.copy()\n",
    "    if a == 1:\n",
    "        for i in range(len(s_prime)-1, -1, -1):\n",
    "            s_prime[i] = max(s_prime[i] - K, 0)\n",
    "            K -= np.abs(s[i] - s_prime[i])\n",
    "    return s_prime\n",
    "\n",
    "def getExpectedValue(environments, state, S, action, shuttleCapacity, stationCapacity, V_prime, reward, discount):\n",
    "    value = 0\n",
    "    for env in environments:\n",
    "        s_prime = getNextState(action, state, shuttleCapacity, stationCapacity, env)\n",
    "        # calculate the expectation given the uniform distribution of five possibilities\n",
    "        value += 1/len(E) * V_prime[tuple(s_prime)]\n",
    "    # expected total value given the state and the action\n",
    "    return reward + discount * value"
   ]
  },
  {
   "cell_type": "code",
   "execution_count": 2,
   "metadata": {},
   "outputs": [],
   "source": [
    "def policyIteration(theta, delta, S, A, E, K, stationCapacity, c_f, c_h, d, V_k1, V_k, oldPolicy, newPolicy):\n",
    "    changing = True\n",
    "    while changing:\n",
    "        i = 0\n",
    "        # Policy evaluation\n",
    "        while delta > theta:\n",
    "            delta = 0\n",
    "            for s in S:\n",
    "                # Get the action based on the policy\n",
    "                a = oldPolicy[tuple(s)]\n",
    "                reward = getReward(c_f, c_h, a, s, K, stationCapacity)\n",
    "                V_k1[tuple(s)] = getExpectedValue(E, s, S, a, K, stationCapacity, V_k, reward, d)\n",
    "                if np.abs(V_k1[tuple(s)] - V_k[tuple(s)]) > delta:\n",
    "                    delta = np.abs(V_k1[tuple(s)] - V_k[tuple(s)])\n",
    "            print(i, delta)\n",
    "            V_k = V_k1.copy()\n",
    "            i += 1\n",
    "        # Policy improvement\n",
    "        for s in S:\n",
    "            expectedValues = []\n",
    "            for a in A:\n",
    "                reward = getReward(c_f, c_h, a, s, K, stationCapacity)\n",
    "                expectedValues.append(getExpectedValue(E, s, a, K, stationCapacity, V_k, reward, d))\n",
    "            bestAction = np.argmax(expectedValues)\n",
    "            newPolicy[tuple(s)] = bestAction\n",
    "        if newPolicy != oldPolicy:\n",
    "            oldPolicy = newPolicy.copy()\n",
    "            delta = 2\n",
    "        else:\n",
    "            changing = False\n",
    "    return newPolicy"
   ]
  },
  {
   "cell_type": "code",
   "execution_count": 3,
   "metadata": {},
   "outputs": [
    {
     "name": "stdout",
     "output_type": "stream",
     "text": [
      "0 100.0\n",
      "1 95.0\n",
      "2 90.25\n"
     ]
    },
    {
     "ename": "KeyboardInterrupt",
     "evalue": "",
     "output_type": "error",
     "traceback": [
      "\u001b[0;31m---------------------------------------------------------------------------\u001b[0m",
      "\u001b[0;31mKeyboardInterrupt\u001b[0m                         Traceback (most recent call last)",
      "\u001b[0;32m<ipython-input-3-ef1eb41af5c3>\u001b[0m in \u001b[0;36m<module>\u001b[0;34m()\u001b[0m\n\u001b[1;32m     10\u001b[0m \u001b[0md\u001b[0m \u001b[0;34m=\u001b[0m \u001b[0;36m0.95\u001b[0m\u001b[0;34m\u001b[0m\u001b[0m\n\u001b[1;32m     11\u001b[0m \u001b[0mS\u001b[0m\u001b[0;34m,\u001b[0m \u001b[0mV_k1\u001b[0m\u001b[0;34m,\u001b[0m \u001b[0mV_k\u001b[0m\u001b[0;34m,\u001b[0m \u001b[0mnewPolicy\u001b[0m\u001b[0;34m,\u001b[0m \u001b[0moldPolicy\u001b[0m\u001b[0;34m,\u001b[0m \u001b[0mE\u001b[0m \u001b[0;34m=\u001b[0m \u001b[0mcreateStates\u001b[0m\u001b[0;34m(\u001b[0m\u001b[0mstationCapacity\u001b[0m\u001b[0;34m,\u001b[0m \u001b[0mmaxArrivals\u001b[0m\u001b[0;34m)\u001b[0m\u001b[0;34m\u001b[0m\u001b[0m\n\u001b[0;32m---> 12\u001b[0;31m \u001b[0mpolicy\u001b[0m \u001b[0;34m=\u001b[0m \u001b[0mpolicyIteration\u001b[0m\u001b[0;34m(\u001b[0m\u001b[0mtheta\u001b[0m\u001b[0;34m,\u001b[0m \u001b[0mdelta\u001b[0m\u001b[0;34m,\u001b[0m \u001b[0mS\u001b[0m\u001b[0;34m,\u001b[0m \u001b[0mA\u001b[0m\u001b[0;34m,\u001b[0m \u001b[0mE\u001b[0m\u001b[0;34m,\u001b[0m \u001b[0mK\u001b[0m\u001b[0;34m,\u001b[0m \u001b[0mstationCapacity\u001b[0m\u001b[0;34m,\u001b[0m \u001b[0mc_f\u001b[0m\u001b[0;34m,\u001b[0m \u001b[0mc_h\u001b[0m\u001b[0;34m,\u001b[0m \u001b[0md\u001b[0m\u001b[0;34m,\u001b[0m \u001b[0mV_k1\u001b[0m\u001b[0;34m,\u001b[0m \u001b[0mV_k\u001b[0m\u001b[0;34m,\u001b[0m \u001b[0moldPolicy\u001b[0m\u001b[0;34m,\u001b[0m \u001b[0mnewPolicy\u001b[0m\u001b[0;34m)\u001b[0m\u001b[0;34m\u001b[0m\u001b[0m\n\u001b[0m\u001b[1;32m     13\u001b[0m \u001b[0mend\u001b[0m \u001b[0;34m=\u001b[0m \u001b[0mtime\u001b[0m\u001b[0;34m.\u001b[0m\u001b[0mtime\u001b[0m\u001b[0;34m(\u001b[0m\u001b[0;34m)\u001b[0m\u001b[0;34m\u001b[0m\u001b[0m\n\u001b[1;32m     14\u001b[0m \u001b[0mend\u001b[0m \u001b[0;34m-\u001b[0m \u001b[0mstart\u001b[0m\u001b[0;34m\u001b[0m\u001b[0m\n",
      "\u001b[0;32m<ipython-input-2-8c76c5cb0113>\u001b[0m in \u001b[0;36mpolicyIteration\u001b[0;34m(theta, delta, S, A, E, K, stationCapacity, c_f, c_h, d, V_k1, V_k, oldPolicy, newPolicy)\u001b[0m\n\u001b[1;32m     10\u001b[0m                 \u001b[0ma\u001b[0m \u001b[0;34m=\u001b[0m \u001b[0moldPolicy\u001b[0m\u001b[0;34m[\u001b[0m\u001b[0mtuple\u001b[0m\u001b[0;34m(\u001b[0m\u001b[0ms\u001b[0m\u001b[0;34m)\u001b[0m\u001b[0;34m]\u001b[0m\u001b[0;34m\u001b[0m\u001b[0m\n\u001b[1;32m     11\u001b[0m                 \u001b[0mreward\u001b[0m \u001b[0;34m=\u001b[0m \u001b[0mgetReward\u001b[0m\u001b[0;34m(\u001b[0m\u001b[0mc_f\u001b[0m\u001b[0;34m,\u001b[0m \u001b[0mc_h\u001b[0m\u001b[0;34m,\u001b[0m \u001b[0ma\u001b[0m\u001b[0;34m,\u001b[0m \u001b[0ms\u001b[0m\u001b[0;34m,\u001b[0m \u001b[0mK\u001b[0m\u001b[0;34m,\u001b[0m \u001b[0mstationCapacity\u001b[0m\u001b[0;34m)\u001b[0m\u001b[0;34m\u001b[0m\u001b[0m\n\u001b[0;32m---> 12\u001b[0;31m                 \u001b[0mV_k1\u001b[0m\u001b[0;34m[\u001b[0m\u001b[0mtuple\u001b[0m\u001b[0;34m(\u001b[0m\u001b[0ms\u001b[0m\u001b[0;34m)\u001b[0m\u001b[0;34m]\u001b[0m \u001b[0;34m=\u001b[0m \u001b[0mgetExpectedValue\u001b[0m\u001b[0;34m(\u001b[0m\u001b[0mE\u001b[0m\u001b[0;34m,\u001b[0m \u001b[0ms\u001b[0m\u001b[0;34m,\u001b[0m \u001b[0mS\u001b[0m\u001b[0;34m,\u001b[0m \u001b[0ma\u001b[0m\u001b[0;34m,\u001b[0m \u001b[0mK\u001b[0m\u001b[0;34m,\u001b[0m \u001b[0mstationCapacity\u001b[0m\u001b[0;34m,\u001b[0m \u001b[0mV_k\u001b[0m\u001b[0;34m,\u001b[0m \u001b[0mreward\u001b[0m\u001b[0;34m,\u001b[0m \u001b[0md\u001b[0m\u001b[0;34m)\u001b[0m\u001b[0;34m\u001b[0m\u001b[0m\n\u001b[0m\u001b[1;32m     13\u001b[0m                 \u001b[0;32mif\u001b[0m \u001b[0mnp\u001b[0m\u001b[0;34m.\u001b[0m\u001b[0mabs\u001b[0m\u001b[0;34m(\u001b[0m\u001b[0mV_k1\u001b[0m\u001b[0;34m[\u001b[0m\u001b[0mtuple\u001b[0m\u001b[0;34m(\u001b[0m\u001b[0ms\u001b[0m\u001b[0;34m)\u001b[0m\u001b[0;34m]\u001b[0m \u001b[0;34m-\u001b[0m \u001b[0mV_k\u001b[0m\u001b[0;34m[\u001b[0m\u001b[0mtuple\u001b[0m\u001b[0;34m(\u001b[0m\u001b[0ms\u001b[0m\u001b[0;34m)\u001b[0m\u001b[0;34m]\u001b[0m\u001b[0;34m)\u001b[0m \u001b[0;34m>\u001b[0m \u001b[0mdelta\u001b[0m\u001b[0;34m:\u001b[0m\u001b[0;34m\u001b[0m\u001b[0m\n\u001b[1;32m     14\u001b[0m                     \u001b[0mdelta\u001b[0m \u001b[0;34m=\u001b[0m \u001b[0mnp\u001b[0m\u001b[0;34m.\u001b[0m\u001b[0mabs\u001b[0m\u001b[0;34m(\u001b[0m\u001b[0mV_k1\u001b[0m\u001b[0;34m[\u001b[0m\u001b[0mtuple\u001b[0m\u001b[0;34m(\u001b[0m\u001b[0ms\u001b[0m\u001b[0;34m)\u001b[0m\u001b[0;34m]\u001b[0m \u001b[0;34m-\u001b[0m \u001b[0mV_k\u001b[0m\u001b[0;34m[\u001b[0m\u001b[0mtuple\u001b[0m\u001b[0;34m(\u001b[0m\u001b[0ms\u001b[0m\u001b[0;34m)\u001b[0m\u001b[0;34m]\u001b[0m\u001b[0;34m)\u001b[0m\u001b[0;34m\u001b[0m\u001b[0m\n",
      "\u001b[0;32m<ipython-input-1-8fafc4b7a6bd>\u001b[0m in \u001b[0;36mgetExpectedValue\u001b[0;34m(environments, state, S, action, shuttleCapacity, stationCapacity, V_prime, reward, discount)\u001b[0m\n\u001b[1;32m     46\u001b[0m     \u001b[0mvalue\u001b[0m \u001b[0;34m=\u001b[0m \u001b[0;36m0\u001b[0m\u001b[0;34m\u001b[0m\u001b[0m\n\u001b[1;32m     47\u001b[0m     \u001b[0;32mfor\u001b[0m \u001b[0menv\u001b[0m \u001b[0;32min\u001b[0m \u001b[0menvironments\u001b[0m\u001b[0;34m:\u001b[0m\u001b[0;34m\u001b[0m\u001b[0m\n\u001b[0;32m---> 48\u001b[0;31m         \u001b[0ms_prime\u001b[0m \u001b[0;34m=\u001b[0m \u001b[0mgetNextState\u001b[0m\u001b[0;34m(\u001b[0m\u001b[0maction\u001b[0m\u001b[0;34m,\u001b[0m \u001b[0mstate\u001b[0m\u001b[0;34m,\u001b[0m \u001b[0mshuttleCapacity\u001b[0m\u001b[0;34m,\u001b[0m \u001b[0mstationCapacity\u001b[0m\u001b[0;34m,\u001b[0m \u001b[0menv\u001b[0m\u001b[0;34m)\u001b[0m\u001b[0;34m\u001b[0m\u001b[0m\n\u001b[0m\u001b[1;32m     49\u001b[0m         \u001b[0;31m# calculate the expectation given the uniform distribution of five possibilities\u001b[0m\u001b[0;34m\u001b[0m\u001b[0;34m\u001b[0m\u001b[0m\n\u001b[1;32m     50\u001b[0m         \u001b[0mvalue\u001b[0m \u001b[0;34m+=\u001b[0m \u001b[0;36m1\u001b[0m\u001b[0;34m/\u001b[0m\u001b[0mlen\u001b[0m\u001b[0;34m(\u001b[0m\u001b[0mE\u001b[0m\u001b[0;34m)\u001b[0m \u001b[0;34m*\u001b[0m \u001b[0mV_prime\u001b[0m\u001b[0;34m[\u001b[0m\u001b[0mtuple\u001b[0m\u001b[0;34m(\u001b[0m\u001b[0ms_prime\u001b[0m\u001b[0;34m)\u001b[0m\u001b[0;34m]\u001b[0m\u001b[0;34m\u001b[0m\u001b[0m\n",
      "\u001b[0;32m<ipython-input-1-8fafc4b7a6bd>\u001b[0m in \u001b[0;36mgetNextState\u001b[0;34m(a, s, K, stationCapacity, env)\u001b[0m\n\u001b[1;32m     40\u001b[0m         \u001b[0;32mfor\u001b[0m \u001b[0mi\u001b[0m \u001b[0;32min\u001b[0m \u001b[0mrange\u001b[0m\u001b[0;34m(\u001b[0m\u001b[0mlen\u001b[0m\u001b[0;34m(\u001b[0m\u001b[0ms_prime\u001b[0m\u001b[0;34m)\u001b[0m\u001b[0;34m-\u001b[0m\u001b[0;36m1\u001b[0m\u001b[0;34m,\u001b[0m \u001b[0;34m-\u001b[0m\u001b[0;36m1\u001b[0m\u001b[0;34m,\u001b[0m \u001b[0;34m-\u001b[0m\u001b[0;36m1\u001b[0m\u001b[0;34m)\u001b[0m\u001b[0;34m:\u001b[0m\u001b[0;34m\u001b[0m\u001b[0m\n\u001b[1;32m     41\u001b[0m             \u001b[0ms_prime\u001b[0m\u001b[0;34m[\u001b[0m\u001b[0mi\u001b[0m\u001b[0;34m]\u001b[0m \u001b[0;34m=\u001b[0m \u001b[0mmax\u001b[0m\u001b[0;34m(\u001b[0m\u001b[0ms_prime\u001b[0m\u001b[0;34m[\u001b[0m\u001b[0mi\u001b[0m\u001b[0;34m]\u001b[0m \u001b[0;34m-\u001b[0m \u001b[0mK\u001b[0m\u001b[0;34m,\u001b[0m \u001b[0;36m0\u001b[0m\u001b[0;34m)\u001b[0m\u001b[0;34m\u001b[0m\u001b[0m\n\u001b[0;32m---> 42\u001b[0;31m             \u001b[0mK\u001b[0m \u001b[0;34m-=\u001b[0m \u001b[0mnp\u001b[0m\u001b[0;34m.\u001b[0m\u001b[0mabs\u001b[0m\u001b[0;34m(\u001b[0m\u001b[0ms\u001b[0m\u001b[0;34m[\u001b[0m\u001b[0mi\u001b[0m\u001b[0;34m]\u001b[0m \u001b[0;34m-\u001b[0m \u001b[0ms_prime\u001b[0m\u001b[0;34m[\u001b[0m\u001b[0mi\u001b[0m\u001b[0;34m]\u001b[0m\u001b[0;34m)\u001b[0m\u001b[0;34m\u001b[0m\u001b[0m\n\u001b[0m\u001b[1;32m     43\u001b[0m     \u001b[0;32mreturn\u001b[0m \u001b[0ms_prime\u001b[0m\u001b[0;34m\u001b[0m\u001b[0m\n\u001b[1;32m     44\u001b[0m \u001b[0;34m\u001b[0m\u001b[0m\n",
      "\u001b[0;31mKeyboardInterrupt\u001b[0m: "
     ]
    }
   ],
   "source": [
    "stationCapacity = 2\n",
    "maxArrivals = 5\n",
    "start = time.time()\n",
    "theta = 10e-6\n",
    "delta = 2\n",
    "A = [0,1]\n",
    "K = 30\n",
    "c_f = -100\n",
    "c_h = np.array([-1, -1.5, -2, -2.5, -3])\n",
    "d = 0.95\n",
    "S, V_k1, V_k, newPolicy, oldPolicy, E = createStates(stationCapacity, maxArrivals)\n",
    "policy = policyIteration(theta, delta, S, A, E, K, stationCapacity, c_f, c_h, d, V_k1, V_k, oldPolicy, newPolicy)\n",
    "end = time.time()\n",
    "end - start"
   ]
  },
  {
   "cell_type": "code",
   "execution_count": null,
   "metadata": {},
   "outputs": [],
   "source": []
  }
 ],
 "metadata": {
  "kernelspec": {
   "display_name": "Python [default]",
   "language": "python",
   "name": "python3"
  },
  "language_info": {
   "codemirror_mode": {
    "name": "ipython",
    "version": 3
   },
   "file_extension": ".py",
   "mimetype": "text/x-python",
   "name": "python",
   "nbconvert_exporter": "python",
   "pygments_lexer": "ipython3",
   "version": "3.6.3"
  }
 },
 "nbformat": 4,
 "nbformat_minor": 2
}
