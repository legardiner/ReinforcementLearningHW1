{
 "cells": [
  {
   "cell_type": "code",
   "execution_count": 1,
   "metadata": {},
   "outputs": [],
   "source": [
    "import numpy as np\n",
    "import matplotlib.pyplot as plt\n",
    "import random\n",
    "import time"
   ]
  },
  {
   "cell_type": "markdown",
   "metadata": {},
   "source": [
    "# Problem 1"
   ]
  },
  {
   "cell_type": "code",
   "execution_count": 2,
   "metadata": {},
   "outputs": [],
   "source": [
    "def getExpectedValue(environments, state, action, shuttle_capacity, V_prime, reward, discount):\n",
    "    value = 0\n",
    "    for env in environments:\n",
    "        # subtract the capacity of the shuttle if action indicator is 1\n",
    "        s_prime = min(max(state + env - action * shuttle_capacity, 0), 200)\n",
    "        # calculate the expectation given the uniform distribution of five possibilities\n",
    "        value += 1/len(environments) * V_prime[s_prime]\n",
    "    # expected total value given the state and the action\n",
    "    return reward + discount * value"
   ]
  },
  {
   "cell_type": "code",
   "execution_count": 3,
   "metadata": {},
   "outputs": [],
   "source": [
    "def getReward(c_f, c_h, a, s, K):\n",
    "    return a * c_f + max(s - a * K, 0) * c_h"
   ]
  },
  {
   "cell_type": "markdown",
   "metadata": {},
   "source": [
    "## A)"
   ]
  },
  {
   "cell_type": "code",
   "execution_count": 4,
   "metadata": {},
   "outputs": [],
   "source": [
    "def enumeration(T, S, A, E, K, c_f, c_h, d, V_t1, V_t):\n",
    "    for t in range(T, -1, -1):\n",
    "        for s in S:\n",
    "            expectedValues = []\n",
    "            for a in A:\n",
    "                # calculate the reward based on the action and state\n",
    "                reward = getReward(c_f, c_h, a, s, K)\n",
    "                expectedValues.append(getExpectedValue(E, s, a, K, V_t1, reward, d))\n",
    "            V_t[s] = max(expectedValues)\n",
    "        V_t1 = V_t.copy()\n",
    "    plt.plot(V_t1)\n",
    "    return plt.show()"
   ]
  },
  {
   "cell_type": "code",
   "execution_count": 5,
   "metadata": {},
   "outputs": [
    {
     "data": {
      "image/png": "[encoded data removed]",
      "text/plain": [
       "<matplotlib.figure.Figure at 0x10b1f5898>"
      ]
     },
     "metadata": {},
     "output_type": "display_data"
    },
    {
     "data": {
      "text/plain": [
       "0.9427177906036377"
      ]
     },
     "execution_count": 5,
     "metadata": {},
     "output_type": "execute_result"
    }
   ],
   "source": [
    "T = 500\n",
    "S = list(range(0, 201))\n",
    "A = [0, 1]\n",
    "E = list(range(1, 6))\n",
    "K = 15\n",
    "c_f = -100\n",
    "c_h = -2\n",
    "d = 0.95\n",
    "V_t1 = [0] * 201\n",
    "V_t = [0] * 201\n",
    "start = time.time()\n",
    "enumeration(T, S, A, E, K, c_f, c_h, d, V_t1, V_t)\n",
    "end = time.time()\n",
    "end - start"
   ]
  },
  {
   "cell_type": "markdown",
   "metadata": {},
   "source": [
    "## B)"
   ]
  },
  {
   "cell_type": "code",
   "execution_count": 6,
   "metadata": {},
   "outputs": [],
   "source": [
    "def valueIteration(theta, delta, S, A, E, K, c_f, c_h, d, V_k1, V_k):\n",
    "    while delta > theta:\n",
    "        for s in S:\n",
    "            expectedValues = []\n",
    "            for a in A:\n",
    "                reward = getReward(c_f, c_h, a, s, K)\n",
    "                expectedValues.append(getExpectedValue(E, s, a, K, V_k, reward, d))\n",
    "            V_k1[s] = max(expectedValues)\n",
    "        delta = max(np.abs(np.array(V_k1) - np.array(V_k)))\n",
    "        # update V_k to be the expected total values for V_k1 as we iterate forward through k\n",
    "        V_k = V_k1.copy()\n",
    "    plt.plot(V_k)\n",
    "    return plt.show()"
   ]
  },
  {
   "cell_type": "code",
   "execution_count": 7,
   "metadata": {},
   "outputs": [
    {
     "data": {
      "image/png": "[encoded data removed]",
      "text/plain": [
       "<matplotlib.figure.Figure at 0x10e627240>"
      ]
     },
     "metadata": {},
     "output_type": "display_data"
    },
    {
     "data": {
      "text/plain": [
       "0.6346189975738525"
      ]
     },
     "execution_count": 7,
     "metadata": {},
     "output_type": "execute_result"
    }
   ],
   "source": [
    "theta = 10e-6\n",
    "delta = 2\n",
    "V_k1 = [0] * 201\n",
    "V_k = [0] * 201\n",
    "start = time.time()\n",
    "valueIteration(theta, delta, S, A, E, K, c_f, c_h, d, V_k1, V_k)\n",
    "end = time.time()\n",
    "end - start"
   ]
  },
  {
   "cell_type": "markdown",
   "metadata": {},
   "source": [
    "## C)"
   ]
  },
  {
   "cell_type": "code",
   "execution_count": 14,
   "metadata": {},
   "outputs": [],
   "source": [
    "def policyIteration(theta, delta, S, A, E, K, c_f, c_h, d, V_k1, V_k, oldPolicy, newPolicy):\n",
    "    changing = True\n",
    "    while changing:\n",
    "        # Policy evaluation\n",
    "        while delta > theta:\n",
    "            for s in S:\n",
    "                # Get the action based on the policy\n",
    "                a = oldPolicy[s]\n",
    "                reward = getReward(c_f, c_h, a, s, K)\n",
    "                V_k1[s] = getExpectedValue(E, s, a, K, V_k, reward, d)\n",
    "            delta = max(np.abs(np.array(V_k1) - np.array(V_k)))\n",
    "            V_k = V_k1.copy()\n",
    "        # Policy improvement\n",
    "        for s in S:\n",
    "            expectedValues = []\n",
    "            for a in A:\n",
    "                reward = getReward(c_f, c_h, a, s, K)\n",
    "                expectedValues.append(getExpectedValue(E, s, a, K, V_k, reward, d))\n",
    "            bestAction = np.argmax(expectedValues)\n",
    "            newPolicy[s] = bestAction\n",
    "        if newPolicy != oldPolicy:\n",
    "            oldPolicy = newPolicy.copy()\n",
    "            delta = 2\n",
    "        else:\n",
    "            changing = False\n",
    "    plt.plot(newPolicy)\n",
    "    plt.show()\n",
    "    return newPolicy"
   ]
  },
  {
   "cell_type": "code",
   "execution_count": 15,
   "metadata": {},
   "outputs": [
    {
     "data": {
      "image/png": "[encoded data removed]",
      "text/plain": [
       "<matplotlib.figure.Figure at 0x10e954828>"
      ]
     },
     "metadata": {},
     "output_type": "display_data"
    },
    {
     "data": {
      "text/plain": [
       "2.6181528568267822"
      ]
     },
     "execution_count": 15,
     "metadata": {},
     "output_type": "execute_result"
    }
   ],
   "source": [
    "V_k1 = [0] * 201\n",
    "V_k = [0] * 201\n",
    "oldPolicy = [random.randint(0,1)] * 201\n",
    "newPolicy = [random.randint(0,1)] * 201\n",
    "start = time.time()\n",
    "policy = policyIteration(theta, delta, S, A, E, K, c_f, c_h, d, V_k1, V_k, oldPolicy, newPolicy)\n",
    "end = time.time()\n",
    "end - start"
   ]
  },
  {
   "cell_type": "code",
   "execution_count": 16,
   "metadata": {},
   "outputs": [
    {
     "data": {
      "text/plain": [
       "[0,\n",
       " 0,\n",
       " 0,\n",
       " 0,\n",
       " 0,\n",
       " 0,\n",
       " 0,\n",
       " 0,\n",
       " 0,\n",
       " 0,\n",
       " 1,\n",
       " 1,\n",
       " 1,\n",
       " 1,\n",
       " 1,\n",
       " 1,\n",
       " 1,\n",
       " 1,\n",
       " 1,\n",
       " 1,\n",
       " 1,\n",
       " 1,\n",
       " 1,\n",
       " 1,\n",
       " 1,\n",
       " 1,\n",
       " 1,\n",
       " 1,\n",
       " 1,\n",
       " 1,\n",
       " 1,\n",
       " 1,\n",
       " 1,\n",
       " 1,\n",
       " 1,\n",
       " 1,\n",
       " 1,\n",
       " 1,\n",
       " 1,\n",
       " 1,\n",
       " 1,\n",
       " 1,\n",
       " 1,\n",
       " 1,\n",
       " 1,\n",
       " 1,\n",
       " 1,\n",
       " 1,\n",
       " 1,\n",
       " 1,\n",
       " 1,\n",
       " 1,\n",
       " 1,\n",
       " 1,\n",
       " 1,\n",
       " 1,\n",
       " 1,\n",
       " 1,\n",
       " 1,\n",
       " 1,\n",
       " 1,\n",
       " 1,\n",
       " 1,\n",
       " 1,\n",
       " 1,\n",
       " 1,\n",
       " 1,\n",
       " 1,\n",
       " 1,\n",
       " 1,\n",
       " 1,\n",
       " 1,\n",
       " 1,\n",
       " 1,\n",
       " 1,\n",
       " 1,\n",
       " 1,\n",
       " 1,\n",
       " 1,\n",
       " 1,\n",
       " 1,\n",
       " 1,\n",
       " 1,\n",
       " 1,\n",
       " 1,\n",
       " 1,\n",
       " 1,\n",
       " 1,\n",
       " 1,\n",
       " 1,\n",
       " 1,\n",
       " 1,\n",
       " 1,\n",
       " 1,\n",
       " 1,\n",
       " 1,\n",
       " 1,\n",
       " 1,\n",
       " 1,\n",
       " 1,\n",
       " 1,\n",
       " 1,\n",
       " 1,\n",
       " 1,\n",
       " 1,\n",
       " 1,\n",
       " 1,\n",
       " 1,\n",
       " 1,\n",
       " 1,\n",
       " 1,\n",
       " 1,\n",
       " 1,\n",
       " 1,\n",
       " 1,\n",
       " 1,\n",
       " 1,\n",
       " 1,\n",
       " 1,\n",
       " 1,\n",
       " 1,\n",
       " 1,\n",
       " 1,\n",
       " 1,\n",
       " 1,\n",
       " 1,\n",
       " 1,\n",
       " 1,\n",
       " 1,\n",
       " 1,\n",
       " 1,\n",
       " 1,\n",
       " 1,\n",
       " 1,\n",
       " 1,\n",
       " 1,\n",
       " 1,\n",
       " 1,\n",
       " 1,\n",
       " 1,\n",
       " 1,\n",
       " 1,\n",
       " 1,\n",
       " 1,\n",
       " 1,\n",
       " 1,\n",
       " 1,\n",
       " 1,\n",
       " 1,\n",
       " 1,\n",
       " 1,\n",
       " 1,\n",
       " 1,\n",
       " 1,\n",
       " 1,\n",
       " 1,\n",
       " 1,\n",
       " 1,\n",
       " 1,\n",
       " 1,\n",
       " 1,\n",
       " 1,\n",
       " 1,\n",
       " 1,\n",
       " 1,\n",
       " 1,\n",
       " 1,\n",
       " 1,\n",
       " 1,\n",
       " 1,\n",
       " 1,\n",
       " 1,\n",
       " 1,\n",
       " 1,\n",
       " 1,\n",
       " 1,\n",
       " 1,\n",
       " 1,\n",
       " 1,\n",
       " 1,\n",
       " 1,\n",
       " 1,\n",
       " 1,\n",
       " 1,\n",
       " 1,\n",
       " 1,\n",
       " 1,\n",
       " 1,\n",
       " 1,\n",
       " 1,\n",
       " 1,\n",
       " 1,\n",
       " 1,\n",
       " 1,\n",
       " 1,\n",
       " 1,\n",
       " 1,\n",
       " 1,\n",
       " 1,\n",
       " 1,\n",
       " 1]"
      ]
     },
     "execution_count": 16,
     "metadata": {},
     "output_type": "execute_result"
    }
   ],
   "source": [
    "policy"
   ]
  },
  {
   "cell_type": "markdown",
   "metadata": {},
   "source": [
    "# Problem 2"
   ]
  },
  {
   "cell_type": "code",
   "execution_count": 17,
   "metadata": {},
   "outputs": [],
   "source": [
    "def createStates(stationCapacity, maxArrivals):\n",
    "    S = []\n",
    "    V_t1 = {}\n",
    "    V_t = {}\n",
    "    newPolicy = {}\n",
    "    oldPolicy = {}\n",
    "    for state1 in range(0, stationCapacity + 1):\n",
    "        for state2 in range(0, stationCapacity + 1):\n",
    "            for state3 in range(0, stationCapacity + 1):\n",
    "                for state4 in range(0, stationCapacity + 1):\n",
    "                    for state5 in range(0, stationCapacity + 1):\n",
    "                        S.append([state1, state2, state3, state4, state5])\n",
    "                        V_t1[(state1, state2, state3, state4, state5)] = 0\n",
    "                        V_t[(state1, state2, state3, state4, state5)] = 0\n",
    "                        newPolicy[(state1, state2, state3, state4, state5)] = random.randint(0,1)\n",
    "                        oldPolicy[(state1, state2, state3, state4, state5)] = random.randint(0,1)\n",
    "                        \n",
    "    \n",
    "    E = []\n",
    "    for env1 in range(1, maxArrivals + 1):\n",
    "        for env2 in range(1, maxArrivals + 1):\n",
    "            for env3 in range(1, maxArrivals + 1):\n",
    "                for env4 in range(1, maxArrivals + 1):\n",
    "                    for env5 in range(1, maxArrivals + 1):\n",
    "                        E.append([env1, env2, env3, env4, env5])\n",
    "    return S, V_t1, V_t, newPolicy, oldPolicy, E"
   ]
  },
  {
   "cell_type": "code",
   "execution_count": 18,
   "metadata": {},
   "outputs": [],
   "source": [
    "def getReward(c_f, c_h, a, s, K, stationCapacity):\n",
    "    return a * c_f + sum(getNextState(a, s, K, stationCapacity) * c_h)"
   ]
  },
  {
   "cell_type": "code",
   "execution_count": 19,
   "metadata": {},
   "outputs": [],
   "source": [
    "def getNextState(a, s, K, stationCapacity, env=np.array([0,0,0,0,0])):\n",
    "    s=np.clip(np.add(s, env), 0, stationCapacity)\n",
    "    s_prime = s.copy()\n",
    "    if a == 1:\n",
    "        for i in range(len(s_prime)-1, -1, -1):\n",
    "            s_prime[i] = max(s_prime[i] - K, 0)\n",
    "            K -= np.abs(s[i] - s_prime[i])\n",
    "    return s_prime"
   ]
  },
  {
   "cell_type": "code",
   "execution_count": 20,
   "metadata": {},
   "outputs": [],
   "source": [
    "def getExpectedValue(environments, state, S, action, shuttleCapacity, stationCapacity, V_prime, reward, discount):\n",
    "    value = 0\n",
    "    for env in environments:\n",
    "        s_prime = getNextState(action, state, shuttleCapacity, stationCapacity, env)\n",
    "        # calculate the expectation given the uniform distribution of five possibilities\n",
    "        value += 1/len(E) * V_prime[tuple(s_prime)]\n",
    "    # expected total value given the state and the action\n",
    "    return reward + discount * value"
   ]
  },
  {
   "cell_type": "markdown",
   "metadata": {},
   "source": [
    "## A)"
   ]
  },
  {
   "cell_type": "code",
   "execution_count": 21,
   "metadata": {},
   "outputs": [],
   "source": [
    "def enumeration(T, S, A, E, K, stationCapacity, c_f, c_h, d, V_t1, V_t):\n",
    "    for t in range(T, -1, -1):\n",
    "        for s in S:\n",
    "            expectedValues = []\n",
    "            for a in A:\n",
    "                # calculate the reward based on the action and state\n",
    "                reward = getReward(c_f, c_h, a, s, K, stationCapacity)\n",
    "                expectedValues.append(getExpectedValue(E, s, S, a, K, stationCapacity, V_t1, reward, d))\n",
    "            V_t[tuple(s)] = max(expectedValues)\n",
    "        V_t1 = V_t.copy()\n",
    "    plot_values = []\n",
    "    for i in range(stationCapacity + 1):\n",
    "        plot_values.append(V_t1[(0,0,0,0,i)])\n",
    "    plt.plot(plot_values)\n",
    "    return plt.show()"
   ]
  },
  {
   "cell_type": "code",
   "execution_count": 22,
   "metadata": {},
   "outputs": [],
   "source": [
    "stationCapacity = 2\n",
    "maxArrivals = 5\n",
    "S, V_t1, V_t, newPolicy, oldPolicy, E = createStates(stationCapacity, maxArrivals)"
   ]
  },
  {
   "cell_type": "code",
   "execution_count": null,
   "metadata": {},
   "outputs": [],
   "source": [
    "start = time.time()\n",
    "T = 500\n",
    "A = [0, 1]\n",
    "K = 30\n",
    "c_f = -100\n",
    "c_h = np.array([-1, -1.5, -2, -2.5, -3])\n",
    "d = 0.95\n",
    "V_t1 = enumeration(T, S, A, E, K, stationCapacity, c_f, c_h, d, V_t1, V_t)\n",
    "end = time.time()\n",
    "end - start"
   ]
  },
  {
   "cell_type": "markdown",
   "metadata": {},
   "source": [
    "## B)"
   ]
  },
  {
   "cell_type": "code",
   "execution_count": null,
   "metadata": {},
   "outputs": [],
   "source": [
    "def valueIteration(theta, delta, S, A, E, K, stationCapacity, c_f, c_h, d, V_k1, V_k):\n",
    "    i = 0\n",
    "    while delta > theta:\n",
    "        delta = 0\n",
    "        for s in S:\n",
    "            expectedValues = []\n",
    "            for a in A:\n",
    "                reward = getReward(c_f, c_h, a, s, K, stationCapacity)\n",
    "                expectedValues.append(getExpectedValue(E, s, S, a, K, stationCapacity, V_k, reward, d))\n",
    "            V_k1[tuple(s)] = max(expectedValues)\n",
    "            if np.abs(V_k1[tuple(s)] - V_k[tuple(s)]) > delta:\n",
    "                delta = np.abs(V_k1[tuple(s)] - V_k[tuple(s)])\n",
    "        # update V_k to be the expected total values for V_k1 as we iterate forward through k\n",
    "        print(i, delta)\n",
    "        V_k = V_k1.copy()\n",
    "        i += 1\n",
    "    plot_values = []\n",
    "    for i in range(stationCapacity + 1):\n",
    "        plot_values.append(V_t1[(0,0,0,0,i)])\n",
    "    plt.plot(plot_values)\n",
    "    return V_k"
   ]
  },
  {
   "cell_type": "code",
   "execution_count": null,
   "metadata": {},
   "outputs": [],
   "source": [
    "start = time.time()\n",
    "theta = 10e-6\n",
    "delta = 2\n",
    "S, V_k1, V_k, newPolicy, oldPolicy, E = createStates(stationCapacity, maxArrivals)\n",
    "V_k = valueIteration(theta, delta, S, A, E, K, stationCapacity, c_f, c_h, d, V_k1, V_k)\n",
    "end = time.time()\n",
    "end - start"
   ]
  },
  {
   "cell_type": "markdown",
   "metadata": {},
   "source": [
    "## C)"
   ]
  },
  {
   "cell_type": "code",
   "execution_count": null,
   "metadata": {},
   "outputs": [],
   "source": [
    "def policyIteration(theta, delta, S, A, E, K, stationCapacity, c_f, c_h, d, V_k1, V_k, oldPolicy, newPolicy):\n",
    "    changing = True\n",
    "    while changing:\n",
    "        i = 0\n",
    "        # Policy evaluation\n",
    "        while delta > theta:\n",
    "            delta = 0\n",
    "            for s in S:\n",
    "                # Get the action based on the policy\n",
    "                a = oldPolicy[tuple(s)]\n",
    "                reward = getReward(c_f, c_h, a, s, K, stationCapacity)\n",
    "                V_k1[tuple(s)] = getExpectedValue(E, s, S, a, K, stationCapacity, V_k, reward, d)\n",
    "                if np.abs(V_k1[tuple(s)] - V_k[tuple(s)]) > delta:\n",
    "                    delta = np.abs(V_k1[tuple(s)] - V_k[tuple(s)])\n",
    "            print(i, delta)\n",
    "            V_k = V_k1.copy()\n",
    "            i += 1\n",
    "        # Policy improvement\n",
    "        for s in S:\n",
    "            expectedValues = []\n",
    "            for a in A:\n",
    "                reward = getReward(c_f, c_h, a, s, K, stationCapacity)\n",
    "                expectedValues.append(getExpectedValue(E, s, a, K, stationCapacity, V_k, reward, d))\n",
    "            bestAction = np.argmax(expectedValues)\n",
    "            newPolicy[tuple(s)] = bestAction\n",
    "        if newPolicy != oldPolicy:\n",
    "            oldPolicy = newPolicy.copy()\n",
    "            delta = 2\n",
    "        else:\n",
    "            changing = False\n",
    "    return newPolicy"
   ]
  },
  {
   "cell_type": "code",
   "execution_count": null,
   "metadata": {},
   "outputs": [],
   "source": [
    "start = time.time()\n",
    "theta = 10e-6\n",
    "delta = 2\n",
    "A = [0,1]\n",
    "K = 30\n",
    "c_f = -100\n",
    "c_h = np.array([-1, -1.5, -2, -2.5, -3])\n",
    "d = 0.95\n",
    "S, V_k1, V_k, newPolicy, oldPolicy, E = createStates(stationCapacity, maxArrivals)\n",
    "policy = policyIteration(theta, delta, S, A, E, K, stationCapacity, c_f, c_h, d, V_k1, V_k, oldPolicy, newPolicy)\n",
    "end = time.time()\n",
    "end - start"
   ]
  }
 ],
 "metadata": {
  "kernelspec": {
   "display_name": "Python [conda root]",
   "language": "python",
   "name": "conda-root-py"
  },
  "language_info": {
   "codemirror_mode": {
    "name": "ipython",
    "version": 3
   },
   "file_extension": ".py",
   "mimetype": "text/x-python",
   "name": "python",
   "nbconvert_exporter": "python",
   "pygments_lexer": "ipython3",
   "version": "3.6.3"
  }
 },
 "nbformat": 4,
 "nbformat_minor": 2
}
